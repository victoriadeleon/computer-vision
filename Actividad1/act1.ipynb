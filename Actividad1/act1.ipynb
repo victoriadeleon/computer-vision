{
 "cells": [
  {
   "cell_type": "markdown",
   "metadata": {},
   "source": [
    "# Activity I. Video Functions\n",
    "Victoria Rodríguez de León \n",
    "\n",
    "A01656328\n",
    "\n",
    "09.04.2024"
   ]
  },
  {
   "cell_type": "code",
   "execution_count": 1,
   "metadata": {},
   "outputs": [],
   "source": [
    "import cv2"
   ]
  },
  {
   "cell_type": "markdown",
   "metadata": {},
   "source": [
    "Grabado y guardado de primer video"
   ]
  },
  {
   "cell_type": "code",
   "execution_count": 2,
   "metadata": {},
   "outputs": [],
   "source": [
    "cap = cv2.VideoCapture(0)\n",
    "width = int(cap.get(cv2.CAP_PROP_FRAME_WIDTH))\n",
    "height = int(cap.get(cv2.CAP_PROP_FRAME_HEIGHT))\n",
    "writer = cv2.VideoWriter('act1_normalvid.mp4', cv2.VideoWriter_fourcc(*'mp4v'),20,(width,height))\n",
    "while True:\n",
    "    ret,frame = cap.read() # Lectura de frames\n",
    "    if cv2.waitKey(1)&0xFF == ord('q'): # cuando aprietas tecla q y pasa un segundo se cierra\n",
    "        break\n",
    "    writer.write(frame)\n",
    "    cv2.imshow('frame',frame)\n",
    "cap.release()\n",
    "writer.release()\n",
    "cv2.destroyAllWindows()"
   ]
  },
  {
   "cell_type": "markdown",
   "metadata": {},
   "source": [
    "Reproducción y guardado de video en reversa"
   ]
  },
  {
   "cell_type": "code",
   "execution_count": 3,
   "metadata": {},
   "outputs": [],
   "source": [
    "cap = cv2.VideoCapture(\"act1_normalvid.mp4\")\n",
    "width= int(cap.get(cv2.CAP_PROP_FRAME_WIDTH))\n",
    "height= int(cap.get(cv2.CAP_PROP_FRAME_HEIGHT))\n",
    "\n",
    "# grab current frame\n",
    "check,vid = cap.read()\n",
    "frame_list = []\n",
    "\n",
    "while(check):\n",
    "    check,vid = cap.read()\n",
    "    frame_list.append(vid)\n",
    "frame_list.pop()\n",
    "frame_list.reverse()\n",
    "\n",
    "# create videowriter2\n",
    "writer2 = cv2.VideoWriter('act1_reversed.mp4', cv2.VideoWriter_fourcc(*'mp4v'), 20, (width, height))\n",
    "\n",
    "for frame in frame_list:\n",
    "    # por cada frame ya invertido, se muestra en pantalla y se guarda.\n",
    "    writer2.write(frame)\n",
    "    cv2.imshow(\"Frame\",frame)\n",
    "    if cv2.waitKey(1)&0xFF == ord('q'):\n",
    "        break\n",
    "\n",
    "cap.release()\n",
    "writer2.release()\n",
    "cv2.destroyAllWindows()"
   ]
  },
  {
   "cell_type": "markdown",
   "metadata": {},
   "source": [
    "Unión de videos y guardado"
   ]
  },
  {
   "cell_type": "code",
   "execution_count": 4,
   "metadata": {},
   "outputs": [],
   "source": [
    "writer_comb = cv2.VideoWriter('act1_combined.mp4', cv2.VideoWriter_fourcc(*'mp4v'), 20, (width, height))\n",
    "cap = cv2.VideoCapture(\"act1_normalvid.mp4\")\n",
    "while True:\n",
    "    ret, frame = cap.read()\n",
    "    if not ret:\n",
    "        break\n",
    "    writer_comb.write(frame)\n",
    "\n",
    "cap.release()  \n",
    "cap = cv2.VideoCapture(\"act1_reversed.mp4\")\n",
    "while True:\n",
    "    ret, frame = cap.read()\n",
    "    if not ret:\n",
    "        break\n",
    "    writer_comb.write(frame)\n",
    "cap.release()  \n",
    "\n",
    "writer_comb.release()\n",
    "cv2.destroyAllWindows()"
   ]
  }
 ],
 "metadata": {
  "kernelspec": {
   "display_name": "Python 3",
   "language": "python",
   "name": "python3"
  },
  "language_info": {
   "codemirror_mode": {
    "name": "ipython",
    "version": 3
   },
   "file_extension": ".py",
   "mimetype": "text/x-python",
   "name": "python",
   "nbconvert_exporter": "python",
   "pygments_lexer": "ipython3",
   "version": "3.12.2"
  }
 },
 "nbformat": 4,
 "nbformat_minor": 2
}
